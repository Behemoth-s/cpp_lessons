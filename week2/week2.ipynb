{
 "metadata": {
  "language_info": {
   "codemirror_mode": {
    "name": "ipython",
    "version": 3
   },
   "file_extension": ".py",
   "mimetype": "text/x-python",
   "name": "python",
   "nbconvert_exporter": "python",
   "pygments_lexer": "ipython3",
   "version": "3.7.7-final"
  },
  "orig_nbformat": 2,
  "kernelspec": {
   "name": "xcpp17",
   "display_name": "C++17"
  }
 },
 "nbformat": 4,
 "nbformat_minor": 2,
 "cells": [
  {
   "cell_type": "markdown",
   "metadata": {},
   "source": [
    "## 位运算\n"
   ]
  },
  {
   "cell_type": "code",
   "execution_count": 2,
   "metadata": {
    "tags": []
   },
   "outputs": [],
   "source": [
    "#include <iostream>"
   ]
  },
  {
   "cell_type": "code",
   "execution_count": 3,
   "metadata": {
    "tags": []
   },
   "outputs": [
    {
     "output_type": "stream",
     "name": "stdout",
     "text": "ffff0000\n"
    }
   ],
   "source": [
    "printf(\"%x\\n\",0xFFFFA000 & 0xFFFF1000);"
   ]
  },
  {
   "cell_type": "code",
   "execution_count": 4,
   "metadata": {
    "tags": []
   },
   "outputs": [
    {
     "output_type": "stream",
     "name": "stdout",
     "text": "ffffffff"
    }
   ],
   "source": [
    "{int n = -3;\n",
    "n = n >> 3;\n",
    "\n",
    "printf(\"%x\", n);}"
   ]
  },
  {
   "cell_type": "markdown",
   "metadata": {},
   "source": [
    "有两个int型变量a和n(0 <= n <= 31)\n",
    "写一个表达式，是其返回值与a的第n位相同。"
   ]
  },
  {
   "cell_type": "code",
   "execution_count": 5,
   "metadata": {
    "tags": []
   },
   "outputs": [],
   "source": [
    "int func(int a, int n)\n",
    "{\n",
    "    return (a >> n)&1;\n",
    "}"
   ]
  },
  {
   "cell_type": "code",
   "execution_count": 6,
   "metadata": {
    "tags": []
   },
   "outputs": [
    {
     "output_type": "execute_result",
     "data": {
      "text/plain": "0"
     },
     "metadata": {},
     "execution_count": 6
    }
   ],
   "source": [
    " func(12, 1)"
   ]
  },
  {
   "cell_type": "markdown",
   "metadata": {},
   "source": [
    "## 引用\n",
    "引用 相当于别名\n",
    "1. 引用定义时需要初始化为引用的变量\n",
    "2. 引用初始化后不可更改\n",
    "3. 引用只能引用变量，不能引用常量或者表达式"
   ]
  },
  {
   "cell_type": "code",
   "execution_count": 7,
   "metadata": {
    "tags": []
   },
   "outputs": [
    {
     "output_type": "stream",
     "name": "stdout",
     "text": "4\n4\n5\n5\n"
    }
   ],
   "source": [
    "{\n",
    "int n = 7;\n",
    "int &r = n; // r 引用了n, r的类型是int &\n",
    "r = 4;\n",
    "std::cout << r << std::endl;\n",
    "std::cout << n << std::endl;\n",
    "n = 5;\n",
    "std::cout << r << std::endl;\n",
    "std::cout << n << std::endl;\n",
    "}"
   ]
  },
  {
   "cell_type": "code",
   "execution_count": 8,
   "metadata": {
    "tags": []
   },
   "outputs": [
    {
     "output_type": "stream",
     "name": "stdout",
     "text": "10\n\n5"
    }
   ],
   "source": [
    "{\n",
    "double a = 4, b=5;\n",
    "double & r1 = a;\n",
    "double & r2 = r1;\n",
    "r2 = 10;\n",
    "std::cout << a <<\"\\n\"<< std::endl ;\n",
    "r1 = b;\n",
    "std::cout << a ;\n",
    "}"
   ]
  },
  {
   "cell_type": "code",
   "execution_count": 9,
   "metadata": {
    "tags": []
   },
   "outputs": [
    {
     "output_type": "stream",
     "name": "stdout",
     "text": "4\n3\n"
    }
   ],
   "source": [
    "// 交换变量值\n",
    "\n",
    "void swap(int *a, int *b)\n",
    "{\n",
    "    int tmp;\n",
    "    tmp = *a;\n",
    "    *a = *b;\n",
    "    *b = tmp;\n",
    "}\n",
    "{\n",
    "int r1 = 3;\n",
    "int r2 = 4;\n",
    "swap(&r1, &r2);\n",
    "std::cout << r1 << std::endl;\n",
    "std::cout << r2 << std::endl;\n",
    "}"
   ]
  },
  {
   "cell_type": "code",
   "execution_count": 10,
   "metadata": {
    "tags": []
   },
   "outputs": [
    {
     "output_type": "stream",
     "name": "stdout",
     "text": "4\n3\n"
    }
   ],
   "source": [
    "void swap2(int &a, int &b)\n",
    "{\n",
    "    int tmp;\n",
    "    tmp = a;\n",
    "    a = b;\n",
    "    b = tmp;\n",
    "}\n",
    "{\n",
    "int r1 = 3;\n",
    "int r2 = 4;\n",
    "swap2(r1, r2);\n",
    "std::cout << r1 << std::endl;\n",
    "std::cout << r2 << std::endl;\n",
    "}"
   ]
  },
  {
   "cell_type": "markdown",
   "metadata": {},
   "source": [
    "引用作为函数的返回值\n"
   ]
  },
  {
   "cell_type": "code",
   "execution_count": 11,
   "metadata": {
    "tags": []
   },
   "outputs": [
    {
     "output_type": "stream",
     "name": "stderr",
     "text": "input_line_19:4:1:error:function definition is not allowed here\n{\n^\n"
    },
    {
     "output_type": "error",
     "ename": "Interpreter Error",
     "evalue": "",
     "traceback": [
      "Interpreter Error: "
     ]
    }
   ],
   "source": [
    "int n;\n",
    "int& SetValue()\n",
    "{\n",
    "    return n;\n",
    "}\n",
    "\n",
    "{\n",
    "    SetValue() = 40;\n",
    "    std::cout << n << std::endl;\n",
    "}"
   ]
  },
  {
   "cell_type": "markdown",
   "metadata": {},
   "source": [
    "常引用，不能通过常引用修改变量值\n",
    "`cosnt T &` 和 `T &` 不是同一类型\n",
    "`T &`  可以被初始化赋值到`cosnt T &`\n",
    " 反之不能"
   ]
  },
  {
   "cell_type": "code",
   "execution_count": 12,
   "metadata": {
    "tags": []
   },
   "outputs": [],
   "source": [
    "{\n",
    "    int n =100;\n",
    "    const int & r = n;\n",
    "    n = 300;\n",
    "    // r = 100; 编译出错\n",
    "}"
   ]
  },
  {
   "cell_type": "markdown",
   "metadata": {},
   "source": [
    "## `const`关键字\n",
    "1. 定义常量\n"
   ]
  },
  {
   "cell_type": "code",
   "execution_count": 13,
   "metadata": {},
   "outputs": [],
   "source": [
    "{\n",
    "    const int MAX_VALUE = 23;\n",
    "    const double PI = 3.14;\n",
    "    const char * SCHOOL_NAME = \"PKU\";\n",
    "}"
   ]
  },
  {
   "cell_type": "markdown",
   "metadata": {
    "tags": []
   },
   "source": [
    "2. 定义常量指针\n",
    "\n",
    "不可以通过常量指针修改其内容\n",
    "\n",
    "不能把常量指针赋值给非常量指针，反之可以\n",
    "\n",
    "常量指针常用于定义函数参数"
   ]
  },
  {
   "cell_type": "code",
   "execution_count": 14,
   "metadata": {},
   "outputs": [],
   "source": [
    "{\n",
    "    int n, m;\n",
    "    const int * p = &n;\n",
    "    //*p =5;\n",
    "    n = 4;\n",
    "    p = &m;\n",
    "}"
   ]
  },
  {
   "cell_type": "code",
   "execution_count": 15,
   "metadata": {},
   "outputs": [],
   "source": [
    "{\n",
    "    const int *p1;\n",
    "    int * p2;\n",
    "    p1 = p2;\n",
    "    // p2 = p1;\n",
    "    p2 = (int *) p1;\n",
    "}"
   ]
  },
  {
   "cell_type": "markdown",
   "metadata": {},
   "source": [
    "3. 定义常引用\n"
   ]
  },
  {
   "cell_type": "markdown",
   "metadata": {
    "tags": []
   },
   "source": [
    "## 动态内存分配\n",
    "\n",
    "- 创建\n",
    "\n",
    "`T* p = new T;`\n",
    "\n",
    "`T* p = new T[N];`\n",
    "\n",
    "- 释放\n",
    "\n",
    "`delete p` 只能释放1次\n",
    "\n",
    "`delete []p` 释放数组"
   ]
  },
  {
   "cell_type": "code",
   "execution_count": 16,
   "metadata": {},
   "outputs": [],
   "source": [
    "{\n",
    "    int * pn;\n",
    "    pn = new int;\n",
    "    *pn = 5;\n",
    "}"
   ]
  },
  {
   "cell_type": "code",
   "execution_count": 17,
   "metadata": {
    "tags": []
   },
   "outputs": [],
   "source": [
    "{\n",
    "    int * pn;\n",
    "    int i = 5;\n",
    "    pn = new int[i * 20];\n",
    "    pn[0] = 20;\n",
    "    pn[100] = 30;\n",
    "}"
   ]
  },
  {
   "cell_type": "code",
   "execution_count": 18,
   "metadata": {},
   "outputs": [],
   "source": [
    "{\n",
    "    int *p = new int;\n",
    "    *p = 5;\n",
    "    delete p;\n",
    "}"
   ]
  },
  {
   "cell_type": "code",
   "execution_count": 19,
   "metadata": {
    "tags": []
   },
   "outputs": [],
   "source": [
    "{\n",
    "    int *p = new int[20];\n",
    "    p[0] = 5;\n",
    "    delete []p;\n",
    "}"
   ]
  },
  {
   "cell_type": "markdown",
   "metadata": {},
   "source": [
    "## 内联函数\n",
    "\n",
    "对于函数语句较少的函数，为了减少调用函数开销，可以使用内联函数\n",
    "\n"
   ]
  },
  {
   "cell_type": "code",
   "execution_count": 20,
   "metadata": {
    "tags": []
   },
   "outputs": [],
   "source": [
    "inline int Max(int a, int b)\n",
    "{\n",
    "    if (a > b) return a;\n",
    "    return b;\n",
    "}"
   ]
  },
  {
   "cell_type": "markdown",
   "metadata": {},
   "source": [
    "## 函数重载\n",
    "\n",
    "函数名相同，但参数类型或参数个数不同\n",
    "```\n",
    "int Max(double f1, double f2){}\n",
    "int Max(int n1, int n2){}\n",
    "int Max(int n1, int n2, int n3){}\n",
    "```"
   ]
  },
  {
   "cell_type": "markdown",
   "metadata": {},
   "source": [
    "## 函数缺省值\n",
    "\n",
    "`void func(int a, int b=3, int c=4){}`"
   ]
  },
  {
   "cell_type": "markdown",
   "metadata": {},
   "source": [
    "## class\n",
    "\n",
    "``` c++\n",
    "class MyClass\n",
    "{\n",
    "    public:\n",
    "        int a;\n",
    "        int b;\n",
    "        void init(int a_, b_){}\n",
    "        int mul(int a, int b){}\n",
    "    private:\n",
    "        double c;\n",
    "    protected:\n",
    "        double d;\n",
    "       \n",
    "};\n",
    "int MyClass::func(){}\n",
    "```\n",
    "访问权限缺省为`prvite`"
   ]
  }
 ]
}